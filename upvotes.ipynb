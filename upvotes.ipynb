{
 "cells": [
  {
   "cell_type": "code",
   "execution_count": 1,
   "id": "028de61e",
   "metadata": {},
   "outputs": [],
   "source": [
    "import pandas as pd\n",
    "import numpy as np\n",
    "import matplotlib.pyplot as plt\n",
    "import seaborn as sns\n",
    "import warnings\n",
    "warnings.filterwarnings('ignore')\n",
    "pd.set_option('display.max_columns',None)\n",
    "pd.set_option('display.max_rows',None)"
   ]
  },
  {
   "cell_type": "markdown",
   "id": "a8fc730f",
   "metadata": {},
   "source": [
    "### 1. Importing the data"
   ]
  },
  {
   "cell_type": "code",
   "execution_count": 2,
   "id": "b1cc5d90",
   "metadata": {},
   "outputs": [],
   "source": [
    "df = pd.read_csv('train_NIR5Yl1.csv')"
   ]
  },
  {
   "cell_type": "code",
   "execution_count": 3,
   "id": "9ec82d91",
   "metadata": {},
   "outputs": [
    {
     "data": {
      "text/html": [
       "<div>\n",
       "<style scoped>\n",
       "    .dataframe tbody tr th:only-of-type {\n",
       "        vertical-align: middle;\n",
       "    }\n",
       "\n",
       "    .dataframe tbody tr th {\n",
       "        vertical-align: top;\n",
       "    }\n",
       "\n",
       "    .dataframe thead th {\n",
       "        text-align: right;\n",
       "    }\n",
       "</style>\n",
       "<table border=\"1\" class=\"dataframe\">\n",
       "  <thead>\n",
       "    <tr style=\"text-align: right;\">\n",
       "      <th></th>\n",
       "      <th>ID</th>\n",
       "      <th>Tag</th>\n",
       "      <th>Reputation</th>\n",
       "      <th>Answers</th>\n",
       "      <th>Username</th>\n",
       "      <th>Views</th>\n",
       "      <th>Upvotes</th>\n",
       "    </tr>\n",
       "  </thead>\n",
       "  <tbody>\n",
       "    <tr>\n",
       "      <th>0</th>\n",
       "      <td>52664</td>\n",
       "      <td>a</td>\n",
       "      <td>3942.0</td>\n",
       "      <td>2.0</td>\n",
       "      <td>155623</td>\n",
       "      <td>7855.0</td>\n",
       "      <td>42.0</td>\n",
       "    </tr>\n",
       "    <tr>\n",
       "      <th>1</th>\n",
       "      <td>327662</td>\n",
       "      <td>a</td>\n",
       "      <td>26046.0</td>\n",
       "      <td>12.0</td>\n",
       "      <td>21781</td>\n",
       "      <td>55801.0</td>\n",
       "      <td>1175.0</td>\n",
       "    </tr>\n",
       "    <tr>\n",
       "      <th>2</th>\n",
       "      <td>468453</td>\n",
       "      <td>c</td>\n",
       "      <td>1358.0</td>\n",
       "      <td>4.0</td>\n",
       "      <td>56177</td>\n",
       "      <td>8067.0</td>\n",
       "      <td>60.0</td>\n",
       "    </tr>\n",
       "    <tr>\n",
       "      <th>3</th>\n",
       "      <td>96996</td>\n",
       "      <td>a</td>\n",
       "      <td>264.0</td>\n",
       "      <td>3.0</td>\n",
       "      <td>168793</td>\n",
       "      <td>27064.0</td>\n",
       "      <td>9.0</td>\n",
       "    </tr>\n",
       "    <tr>\n",
       "      <th>4</th>\n",
       "      <td>131465</td>\n",
       "      <td>c</td>\n",
       "      <td>4271.0</td>\n",
       "      <td>4.0</td>\n",
       "      <td>112223</td>\n",
       "      <td>13986.0</td>\n",
       "      <td>83.0</td>\n",
       "    </tr>\n",
       "  </tbody>\n",
       "</table>\n",
       "</div>"
      ],
      "text/plain": [
       "       ID Tag  Reputation  Answers  Username    Views  Upvotes\n",
       "0   52664   a      3942.0      2.0    155623   7855.0     42.0\n",
       "1  327662   a     26046.0     12.0     21781  55801.0   1175.0\n",
       "2  468453   c      1358.0      4.0     56177   8067.0     60.0\n",
       "3   96996   a       264.0      3.0    168793  27064.0      9.0\n",
       "4  131465   c      4271.0      4.0    112223  13986.0     83.0"
      ]
     },
     "execution_count": 3,
     "metadata": {},
     "output_type": "execute_result"
    }
   ],
   "source": [
    "df.head()"
   ]
  },
  {
   "cell_type": "code",
   "execution_count": 4,
   "id": "5179502d",
   "metadata": {},
   "outputs": [],
   "source": [
    "df2 = pd.read_csv('test_8i3B3FC.csv')"
   ]
  },
  {
   "cell_type": "code",
   "execution_count": 5,
   "id": "812cd986",
   "metadata": {},
   "outputs": [
    {
     "data": {
      "text/html": [
       "<div>\n",
       "<style scoped>\n",
       "    .dataframe tbody tr th:only-of-type {\n",
       "        vertical-align: middle;\n",
       "    }\n",
       "\n",
       "    .dataframe tbody tr th {\n",
       "        vertical-align: top;\n",
       "    }\n",
       "\n",
       "    .dataframe thead th {\n",
       "        text-align: right;\n",
       "    }\n",
       "</style>\n",
       "<table border=\"1\" class=\"dataframe\">\n",
       "  <thead>\n",
       "    <tr style=\"text-align: right;\">\n",
       "      <th></th>\n",
       "      <th>ID</th>\n",
       "      <th>Tag</th>\n",
       "      <th>Reputation</th>\n",
       "      <th>Answers</th>\n",
       "      <th>Username</th>\n",
       "      <th>Views</th>\n",
       "    </tr>\n",
       "  </thead>\n",
       "  <tbody>\n",
       "    <tr>\n",
       "      <th>0</th>\n",
       "      <td>366953</td>\n",
       "      <td>a</td>\n",
       "      <td>5645.0</td>\n",
       "      <td>3.0</td>\n",
       "      <td>50652</td>\n",
       "      <td>33200.0</td>\n",
       "    </tr>\n",
       "    <tr>\n",
       "      <th>1</th>\n",
       "      <td>71864</td>\n",
       "      <td>c</td>\n",
       "      <td>24511.0</td>\n",
       "      <td>6.0</td>\n",
       "      <td>37685</td>\n",
       "      <td>2730.0</td>\n",
       "    </tr>\n",
       "    <tr>\n",
       "      <th>2</th>\n",
       "      <td>141692</td>\n",
       "      <td>i</td>\n",
       "      <td>927.0</td>\n",
       "      <td>1.0</td>\n",
       "      <td>135293</td>\n",
       "      <td>21167.0</td>\n",
       "    </tr>\n",
       "    <tr>\n",
       "      <th>3</th>\n",
       "      <td>316833</td>\n",
       "      <td>i</td>\n",
       "      <td>21.0</td>\n",
       "      <td>6.0</td>\n",
       "      <td>166998</td>\n",
       "      <td>18528.0</td>\n",
       "    </tr>\n",
       "    <tr>\n",
       "      <th>4</th>\n",
       "      <td>440445</td>\n",
       "      <td>i</td>\n",
       "      <td>4475.0</td>\n",
       "      <td>10.0</td>\n",
       "      <td>53504</td>\n",
       "      <td>57240.0</td>\n",
       "    </tr>\n",
       "  </tbody>\n",
       "</table>\n",
       "</div>"
      ],
      "text/plain": [
       "       ID Tag  Reputation  Answers  Username    Views\n",
       "0  366953   a      5645.0      3.0     50652  33200.0\n",
       "1   71864   c     24511.0      6.0     37685   2730.0\n",
       "2  141692   i       927.0      1.0    135293  21167.0\n",
       "3  316833   i        21.0      6.0    166998  18528.0\n",
       "4  440445   i      4475.0     10.0     53504  57240.0"
      ]
     },
     "execution_count": 5,
     "metadata": {},
     "output_type": "execute_result"
    }
   ],
   "source": [
    "df2.head()"
   ]
  },
  {
   "cell_type": "markdown",
   "id": "7374e37d",
   "metadata": {},
   "source": [
    "### 2. Info on the data"
   ]
  },
  {
   "cell_type": "code",
   "execution_count": 6,
   "id": "1eaf98bf",
   "metadata": {},
   "outputs": [
    {
     "name": "stdout",
     "output_type": "stream",
     "text": [
      "<class 'pandas.core.frame.DataFrame'>\n",
      "RangeIndex: 330045 entries, 0 to 330044\n",
      "Data columns (total 7 columns):\n",
      " #   Column      Non-Null Count   Dtype  \n",
      "---  ------      --------------   -----  \n",
      " 0   ID          330045 non-null  int64  \n",
      " 1   Tag         330045 non-null  object \n",
      " 2   Reputation  330045 non-null  float64\n",
      " 3   Answers     330045 non-null  float64\n",
      " 4   Username    330045 non-null  int64  \n",
      " 5   Views       330045 non-null  float64\n",
      " 6   Upvotes     330045 non-null  float64\n",
      "dtypes: float64(4), int64(2), object(1)\n",
      "memory usage: 17.6+ MB\n"
     ]
    }
   ],
   "source": [
    "df.info()"
   ]
  },
  {
   "cell_type": "code",
   "execution_count": 7,
   "id": "1dee29a1",
   "metadata": {},
   "outputs": [
    {
     "name": "stdout",
     "output_type": "stream",
     "text": [
      "<class 'pandas.core.frame.DataFrame'>\n",
      "RangeIndex: 141448 entries, 0 to 141447\n",
      "Data columns (total 6 columns):\n",
      " #   Column      Non-Null Count   Dtype  \n",
      "---  ------      --------------   -----  \n",
      " 0   ID          141448 non-null  int64  \n",
      " 1   Tag         141448 non-null  object \n",
      " 2   Reputation  141448 non-null  float64\n",
      " 3   Answers     141448 non-null  float64\n",
      " 4   Username    141448 non-null  int64  \n",
      " 5   Views       141448 non-null  float64\n",
      "dtypes: float64(3), int64(2), object(1)\n",
      "memory usage: 6.5+ MB\n"
     ]
    }
   ],
   "source": [
    "df2.info()"
   ]
  },
  {
   "cell_type": "code",
   "execution_count": 8,
   "id": "7fd33b86",
   "metadata": {},
   "outputs": [
    {
     "data": {
      "text/html": [
       "<div>\n",
       "<style scoped>\n",
       "    .dataframe tbody tr th:only-of-type {\n",
       "        vertical-align: middle;\n",
       "    }\n",
       "\n",
       "    .dataframe tbody tr th {\n",
       "        vertical-align: top;\n",
       "    }\n",
       "\n",
       "    .dataframe thead th {\n",
       "        text-align: right;\n",
       "    }\n",
       "</style>\n",
       "<table border=\"1\" class=\"dataframe\">\n",
       "  <thead>\n",
       "    <tr style=\"text-align: right;\">\n",
       "      <th></th>\n",
       "      <th>count</th>\n",
       "      <th>mean</th>\n",
       "      <th>std</th>\n",
       "      <th>min</th>\n",
       "      <th>25%</th>\n",
       "      <th>50%</th>\n",
       "      <th>75%</th>\n",
       "      <th>max</th>\n",
       "    </tr>\n",
       "  </thead>\n",
       "  <tbody>\n",
       "    <tr>\n",
       "      <th>ID</th>\n",
       "      <td>330045.0</td>\n",
       "      <td>235748.682789</td>\n",
       "      <td>136039.418471</td>\n",
       "      <td>1.0</td>\n",
       "      <td>117909.0</td>\n",
       "      <td>235699.0</td>\n",
       "      <td>353620.0</td>\n",
       "      <td>471493.0</td>\n",
       "    </tr>\n",
       "    <tr>\n",
       "      <th>Reputation</th>\n",
       "      <td>330045.0</td>\n",
       "      <td>7773.146798</td>\n",
       "      <td>27061.412587</td>\n",
       "      <td>0.0</td>\n",
       "      <td>282.0</td>\n",
       "      <td>1236.0</td>\n",
       "      <td>5118.0</td>\n",
       "      <td>1042428.0</td>\n",
       "    </tr>\n",
       "    <tr>\n",
       "      <th>Answers</th>\n",
       "      <td>330045.0</td>\n",
       "      <td>3.917672</td>\n",
       "      <td>3.579515</td>\n",
       "      <td>0.0</td>\n",
       "      <td>2.0</td>\n",
       "      <td>3.0</td>\n",
       "      <td>5.0</td>\n",
       "      <td>76.0</td>\n",
       "    </tr>\n",
       "    <tr>\n",
       "      <th>Username</th>\n",
       "      <td>330045.0</td>\n",
       "      <td>81442.888803</td>\n",
       "      <td>49215.100730</td>\n",
       "      <td>0.0</td>\n",
       "      <td>39808.0</td>\n",
       "      <td>79010.0</td>\n",
       "      <td>122559.0</td>\n",
       "      <td>175738.0</td>\n",
       "    </tr>\n",
       "    <tr>\n",
       "      <th>Views</th>\n",
       "      <td>330045.0</td>\n",
       "      <td>29645.071342</td>\n",
       "      <td>80956.456478</td>\n",
       "      <td>9.0</td>\n",
       "      <td>2594.0</td>\n",
       "      <td>8954.0</td>\n",
       "      <td>26870.0</td>\n",
       "      <td>5231058.0</td>\n",
       "    </tr>\n",
       "    <tr>\n",
       "      <th>Upvotes</th>\n",
       "      <td>330045.0</td>\n",
       "      <td>337.505358</td>\n",
       "      <td>3592.441135</td>\n",
       "      <td>0.0</td>\n",
       "      <td>8.0</td>\n",
       "      <td>28.0</td>\n",
       "      <td>107.0</td>\n",
       "      <td>615278.0</td>\n",
       "    </tr>\n",
       "  </tbody>\n",
       "</table>\n",
       "</div>"
      ],
      "text/plain": [
       "               count           mean            std  min       25%       50%  \\\n",
       "ID          330045.0  235748.682789  136039.418471  1.0  117909.0  235699.0   \n",
       "Reputation  330045.0    7773.146798   27061.412587  0.0     282.0    1236.0   \n",
       "Answers     330045.0       3.917672       3.579515  0.0       2.0       3.0   \n",
       "Username    330045.0   81442.888803   49215.100730  0.0   39808.0   79010.0   \n",
       "Views       330045.0   29645.071342   80956.456478  9.0    2594.0    8954.0   \n",
       "Upvotes     330045.0     337.505358    3592.441135  0.0       8.0      28.0   \n",
       "\n",
       "                 75%        max  \n",
       "ID          353620.0   471493.0  \n",
       "Reputation    5118.0  1042428.0  \n",
       "Answers          5.0       76.0  \n",
       "Username    122559.0   175738.0  \n",
       "Views        26870.0  5231058.0  \n",
       "Upvotes        107.0   615278.0  "
      ]
     },
     "execution_count": 8,
     "metadata": {},
     "output_type": "execute_result"
    }
   ],
   "source": [
    "df.describe().transpose()"
   ]
  },
  {
   "cell_type": "code",
   "execution_count": 9,
   "id": "5805788d",
   "metadata": {},
   "outputs": [
    {
     "data": {
      "text/html": [
       "<div>\n",
       "<style scoped>\n",
       "    .dataframe tbody tr th:only-of-type {\n",
       "        vertical-align: middle;\n",
       "    }\n",
       "\n",
       "    .dataframe tbody tr th {\n",
       "        vertical-align: top;\n",
       "    }\n",
       "\n",
       "    .dataframe thead th {\n",
       "        text-align: right;\n",
       "    }\n",
       "</style>\n",
       "<table border=\"1\" class=\"dataframe\">\n",
       "  <thead>\n",
       "    <tr style=\"text-align: right;\">\n",
       "      <th></th>\n",
       "      <th>count</th>\n",
       "      <th>mean</th>\n",
       "      <th>std</th>\n",
       "      <th>min</th>\n",
       "      <th>25%</th>\n",
       "      <th>50%</th>\n",
       "      <th>75%</th>\n",
       "      <th>max</th>\n",
       "    </tr>\n",
       "  </thead>\n",
       "  <tbody>\n",
       "    <tr>\n",
       "      <th>ID</th>\n",
       "      <td>141448.0</td>\n",
       "      <td>235743.073497</td>\n",
       "      <td>136269.867118</td>\n",
       "      <td>7.0</td>\n",
       "      <td>117797.00</td>\n",
       "      <td>235830.0</td>\n",
       "      <td>353616.00</td>\n",
       "      <td>471488.0</td>\n",
       "    </tr>\n",
       "    <tr>\n",
       "      <th>Reputation</th>\n",
       "      <td>141448.0</td>\n",
       "      <td>7920.927231</td>\n",
       "      <td>27910.724795</td>\n",
       "      <td>0.0</td>\n",
       "      <td>286.00</td>\n",
       "      <td>1245.0</td>\n",
       "      <td>5123.00</td>\n",
       "      <td>1042428.0</td>\n",
       "    </tr>\n",
       "    <tr>\n",
       "      <th>Answers</th>\n",
       "      <td>141448.0</td>\n",
       "      <td>3.914873</td>\n",
       "      <td>3.577460</td>\n",
       "      <td>0.0</td>\n",
       "      <td>2.00</td>\n",
       "      <td>3.0</td>\n",
       "      <td>5.00</td>\n",
       "      <td>73.0</td>\n",
       "    </tr>\n",
       "    <tr>\n",
       "      <th>Username</th>\n",
       "      <td>141448.0</td>\n",
       "      <td>81348.231117</td>\n",
       "      <td>49046.098215</td>\n",
       "      <td>4.0</td>\n",
       "      <td>40222.75</td>\n",
       "      <td>78795.5</td>\n",
       "      <td>122149.00</td>\n",
       "      <td>175737.0</td>\n",
       "    </tr>\n",
       "    <tr>\n",
       "      <th>Views</th>\n",
       "      <td>141448.0</td>\n",
       "      <td>29846.333112</td>\n",
       "      <td>80343.740166</td>\n",
       "      <td>9.0</td>\n",
       "      <td>2608.00</td>\n",
       "      <td>8977.0</td>\n",
       "      <td>26989.25</td>\n",
       "      <td>5004669.0</td>\n",
       "    </tr>\n",
       "  </tbody>\n",
       "</table>\n",
       "</div>"
      ],
      "text/plain": [
       "               count           mean            std  min        25%       50%  \\\n",
       "ID          141448.0  235743.073497  136269.867118  7.0  117797.00  235830.0   \n",
       "Reputation  141448.0    7920.927231   27910.724795  0.0     286.00    1245.0   \n",
       "Answers     141448.0       3.914873       3.577460  0.0       2.00       3.0   \n",
       "Username    141448.0   81348.231117   49046.098215  4.0   40222.75   78795.5   \n",
       "Views       141448.0   29846.333112   80343.740166  9.0    2608.00    8977.0   \n",
       "\n",
       "                  75%        max  \n",
       "ID          353616.00   471488.0  \n",
       "Reputation    5123.00  1042428.0  \n",
       "Answers          5.00       73.0  \n",
       "Username    122149.00   175737.0  \n",
       "Views        26989.25  5004669.0  "
      ]
     },
     "execution_count": 9,
     "metadata": {},
     "output_type": "execute_result"
    }
   ],
   "source": [
    "df2.describe().transpose()"
   ]
  },
  {
   "cell_type": "markdown",
   "id": "3dc77a19",
   "metadata": {},
   "source": [
    "### 3. Checking null values"
   ]
  },
  {
   "cell_type": "code",
   "execution_count": 10,
   "id": "ad670daa",
   "metadata": {},
   "outputs": [
    {
     "data": {
      "text/plain": [
       "ID            0\n",
       "Tag           0\n",
       "Reputation    0\n",
       "Answers       0\n",
       "Username      0\n",
       "Views         0\n",
       "Upvotes       0\n",
       "dtype: int64"
      ]
     },
     "execution_count": 10,
     "metadata": {},
     "output_type": "execute_result"
    }
   ],
   "source": [
    "df.isnull().sum()"
   ]
  },
  {
   "cell_type": "code",
   "execution_count": 11,
   "id": "284443d4",
   "metadata": {},
   "outputs": [
    {
     "data": {
      "text/plain": [
       "ID            0\n",
       "Tag           0\n",
       "Reputation    0\n",
       "Answers       0\n",
       "Username      0\n",
       "Views         0\n",
       "dtype: int64"
      ]
     },
     "execution_count": 11,
     "metadata": {},
     "output_type": "execute_result"
    }
   ],
   "source": [
    "df2.isnull().sum()"
   ]
  },
  {
   "cell_type": "code",
   "execution_count": 12,
   "id": "f207822a",
   "metadata": {},
   "outputs": [],
   "source": [
    "# df.head()"
   ]
  },
  {
   "cell_type": "markdown",
   "id": "ca6d1c36",
   "metadata": {},
   "source": [
    "### 4. Analysis and Preprocessing"
   ]
  },
  {
   "cell_type": "markdown",
   "id": "705a6a43",
   "metadata": {},
   "source": [
    "### 4.1 Checking correlations between the variables"
   ]
  },
  {
   "cell_type": "code",
   "execution_count": 13,
   "id": "f36ee378",
   "metadata": {},
   "outputs": [
    {
     "data": {
      "image/png": "[encoded data removed]",
      "text/plain": [
       "<Figure size 720x576 with 2 Axes>"
      ]
     },
     "metadata": {
      "needs_background": "light"
     },
     "output_type": "display_data"
    }
   ],
   "source": [
    "plt.figure(figsize=(10,8))\n",
    "sns.heatmap(df.corr(),annot=True)\n",
    "plt.show()"
   ]
  },
  {
   "cell_type": "markdown",
   "id": "297bf4c4",
   "metadata": {},
   "source": [
    "### Answers and views are correlated 50%"
   ]
  },
  {
   "cell_type": "code",
   "execution_count": 14,
   "id": "29d80e1c",
   "metadata": {},
   "outputs": [
    {
     "data": {
      "text/html": [
       "<div>\n",
       "<style scoped>\n",
       "    .dataframe tbody tr th:only-of-type {\n",
       "        vertical-align: middle;\n",
       "    }\n",
       "\n",
       "    .dataframe tbody tr th {\n",
       "        vertical-align: top;\n",
       "    }\n",
       "\n",
       "    .dataframe thead th {\n",
       "        text-align: right;\n",
       "    }\n",
       "</style>\n",
       "<table border=\"1\" class=\"dataframe\">\n",
       "  <thead>\n",
       "    <tr style=\"text-align: right;\">\n",
       "      <th></th>\n",
       "      <th>ID</th>\n",
       "      <th>Tag</th>\n",
       "      <th>Reputation</th>\n",
       "      <th>Answers</th>\n",
       "      <th>Username</th>\n",
       "      <th>Views</th>\n",
       "      <th>Upvotes</th>\n",
       "    </tr>\n",
       "  </thead>\n",
       "  <tbody>\n",
       "    <tr>\n",
       "      <th>0</th>\n",
       "      <td>52664</td>\n",
       "      <td>a</td>\n",
       "      <td>3942.0</td>\n",
       "      <td>2.0</td>\n",
       "      <td>155623</td>\n",
       "      <td>7855.0</td>\n",
       "      <td>42.0</td>\n",
       "    </tr>\n",
       "    <tr>\n",
       "      <th>1</th>\n",
       "      <td>327662</td>\n",
       "      <td>a</td>\n",
       "      <td>26046.0</td>\n",
       "      <td>12.0</td>\n",
       "      <td>21781</td>\n",
       "      <td>55801.0</td>\n",
       "      <td>1175.0</td>\n",
       "    </tr>\n",
       "    <tr>\n",
       "      <th>2</th>\n",
       "      <td>468453</td>\n",
       "      <td>c</td>\n",
       "      <td>1358.0</td>\n",
       "      <td>4.0</td>\n",
       "      <td>56177</td>\n",
       "      <td>8067.0</td>\n",
       "      <td>60.0</td>\n",
       "    </tr>\n",
       "    <tr>\n",
       "      <th>3</th>\n",
       "      <td>96996</td>\n",
       "      <td>a</td>\n",
       "      <td>264.0</td>\n",
       "      <td>3.0</td>\n",
       "      <td>168793</td>\n",
       "      <td>27064.0</td>\n",
       "      <td>9.0</td>\n",
       "    </tr>\n",
       "    <tr>\n",
       "      <th>4</th>\n",
       "      <td>131465</td>\n",
       "      <td>c</td>\n",
       "      <td>4271.0</td>\n",
       "      <td>4.0</td>\n",
       "      <td>112223</td>\n",
       "      <td>13986.0</td>\n",
       "      <td>83.0</td>\n",
       "    </tr>\n",
       "  </tbody>\n",
       "</table>\n",
       "</div>"
      ],
      "text/plain": [
       "       ID Tag  Reputation  Answers  Username    Views  Upvotes\n",
       "0   52664   a      3942.0      2.0    155623   7855.0     42.0\n",
       "1  327662   a     26046.0     12.0     21781  55801.0   1175.0\n",
       "2  468453   c      1358.0      4.0     56177   8067.0     60.0\n",
       "3   96996   a       264.0      3.0    168793  27064.0      9.0\n",
       "4  131465   c      4271.0      4.0    112223  13986.0     83.0"
      ]
     },
     "execution_count": 14,
     "metadata": {},
     "output_type": "execute_result"
    }
   ],
   "source": [
    "df.head()"
   ]
  },
  {
   "cell_type": "markdown",
   "id": "885dae59",
   "metadata": {},
   "source": [
    "### 4.2 Checking for outliers"
   ]
  },
  {
   "cell_type": "code",
   "execution_count": 15,
   "id": "b63c0b48",
   "metadata": {
    "scrolled": false
   },
   "outputs": [
    {
     "name": "stdout",
     "output_type": "stream",
     "text": [
      "ID \n",
      "\n",
      "count    330045.000000\n",
      "mean     235748.682789\n",
      "std      136039.418471\n",
      "min           1.000000\n",
      "25%      117909.000000\n",
      "50%      235699.000000\n",
      "75%      353620.000000\n",
      "max      471493.000000\n",
      "Name: ID, dtype: float64\n",
      "\n",
      "\n",
      "----------------------------------------------------------------------------------------------------\n"
     ]
    },
    {
     "data": {
      "image/png": "[encoded data removed]",
      "text/plain": [
       "<Figure size 432x288 with 1 Axes>"
      ]
     },
     "metadata": {
      "needs_background": "light"
     },
     "output_type": "display_data"
    },
    {
     "data": {
      "image/png": "[encoded data removed]",
      "text/plain": [
       "<Figure size 432x288 with 1 Axes>"
      ]
     },
     "metadata": {
      "needs_background": "light"
     },
     "output_type": "display_data"
    },
    {
     "name": "stdout",
     "output_type": "stream",
     "text": [
      "---------------------------------------------------------------------------------------------------- \n",
      "\n",
      "Reputation \n",
      "\n",
      "count    3.300450e+05\n",
      "mean     7.773147e+03\n",
      "std      2.706141e+04\n",
      "min      0.000000e+00\n",
      "25%      2.820000e+02\n",
      "50%      1.236000e+03\n",
      "75%      5.118000e+03\n",
      "max      1.042428e+06\n",
      "Name: Reputation, dtype: float64\n",
      "\n",
      "\n",
      "----------------------------------------------------------------------------------------------------\n"
     ]
    },
    {
     "data": {
      "image/png": "[encoded data removed]",
      "text/plain": [
       "<Figure size 432x288 with 1 Axes>"
      ]
     },
     "metadata": {
      "needs_background": "light"
     },
     "output_type": "display_data"
    },
    {
     "data": {
      "image/png": "[encoded data removed]",
      "text/plain": [
       "<Figure size 432x288 with 1 Axes>"
      ]
     },
     "metadata": {
      "needs_background": "light"
     },
     "output_type": "display_data"
    },
    {
     "name": "stdout",
     "output_type": "stream",
     "text": [
      "---------------------------------------------------------------------------------------------------- \n",
      "\n",
      "Answers \n",
      "\n",
      "count    330045.000000\n",
      "mean          3.917672\n",
      "std           3.579515\n",
      "min           0.000000\n",
      "25%           2.000000\n",
      "50%           3.000000\n",
      "75%           5.000000\n",
      "max          76.000000\n",
      "Name: Answers, dtype: float64\n",
      "\n",
      "\n",
      "----------------------------------------------------------------------------------------------------\n"
     ]
    },
    {
     "data": {
      "image/png": "[encoded data removed]",
      "text/plain": [
       "<Figure size 432x288 with 1 Axes>"
      ]
     },
     "metadata": {
      "needs_background": "light"
     },
     "output_type": "display_data"
    },
    {
     "data": {
      "image/png": "[encoded data removed]",
      "text/plain": [
       "<Figure size 432x288 with 1 Axes>"
      ]
     },
     "metadata": {
      "needs_background": "light"
     },
     "output_type": "display_data"
    },
    {
     "name": "stdout",
     "output_type": "stream",
     "text": [
      "---------------------------------------------------------------------------------------------------- \n",
      "\n",
      "Username \n",
      "\n",
      "count    330045.000000\n",
      "mean      81442.888803\n",
      "std       49215.100730\n",
      "min           0.000000\n",
      "25%       39808.000000\n",
      "50%       79010.000000\n",
      "75%      122559.000000\n",
      "max      175738.000000\n",
      "Name: Username, dtype: float64\n",
      "\n",
      "\n",
      "----------------------------------------------------------------------------------------------------\n"
     ]
    },
    {
     "data": {
      "image/png": "[encoded data removed]",
      "text/plain": [
       "<Figure size 432x288 with 1 Axes>"
      ]
     },
     "metadata": {
      "needs_background": "light"
     },
     "output_type": "display_data"
    },
    {
     "data": {
      "image/png": "[encoded data removed]",
      "text/plain": [
       "<Figure size 432x288 with 1 Axes>"
      ]
     },
     "metadata": {
      "needs_background": "light"
     },
     "output_type": "display_data"
    },
    {
     "name": "stdout",
     "output_type": "stream",
     "text": [
      "---------------------------------------------------------------------------------------------------- \n",
      "\n",
      "Views \n",
      "\n",
      "count    3.300450e+05\n",
      "mean     2.964507e+04\n",
      "std      8.095646e+04\n",
      "min      9.000000e+00\n",
      "25%      2.594000e+03\n",
      "50%      8.954000e+03\n",
      "75%      2.687000e+04\n",
      "max      5.231058e+06\n",
      "Name: Views, dtype: float64\n",
      "\n",
      "\n",
      "----------------------------------------------------------------------------------------------------\n"
     ]
    },
    {
     "data": {
      "image/png": "[encoded data removed]",
      "text/plain": [
       "<Figure size 432x288 with 1 Axes>"
      ]
     },
     "metadata": {
      "needs_background": "light"
     },
     "output_type": "display_data"
    },
    {
     "data": {
      "image/png": "[encoded data removed]",
      "text/plain": [
       "<Figure size 432x288 with 1 Axes>"
      ]
     },
     "metadata": {
      "needs_background": "light"
     },
     "output_type": "display_data"
    },
    {
     "name": "stdout",
     "output_type": "stream",
     "text": [
      "---------------------------------------------------------------------------------------------------- \n",
      "\n",
      "Upvotes \n",
      "\n",
      "count    330045.000000\n",
      "mean        337.505358\n",
      "std        3592.441135\n",
      "min           0.000000\n",
      "25%           8.000000\n",
      "50%          28.000000\n",
      "75%         107.000000\n",
      "max      615278.000000\n",
      "Name: Upvotes, dtype: float64\n",
      "\n",
      "\n",
      "----------------------------------------------------------------------------------------------------\n"
     ]
    },
    {
     "data": {
      "image/png": "[encoded data removed]",
      "text/plain": [
       "<Figure size 432x288 with 1 Axes>"
      ]
     },
     "metadata": {
      "needs_background": "light"
     },
     "output_type": "display_data"
    },
    {
     "data": {
      "image/png": "[encoded data removed]",
      "text/plain": [
       "<Figure size 432x288 with 1 Axes>"
      ]
     },
     "metadata": {
      "needs_background": "light"
     },
     "output_type": "display_data"
    },
    {
     "name": "stdout",
     "output_type": "stream",
     "text": [
      "---------------------------------------------------------------------------------------------------- \n",
      "\n"
     ]
    }
   ],
   "source": [
    "# print(df.columns,'\\n\\n')\n",
    "# print(df.dtypes,'\\n')\n",
    "for i in df.columns:\n",
    "    if df[i].dtype != 'object':\n",
    "        \n",
    "        print(i,'\\n')\n",
    "        print(df[i].describe())\n",
    "        print('\\n')\n",
    "        print('--'*50)    \n",
    "        \n",
    "        sns.boxplot(df[i])\n",
    "        plt.grid()\n",
    "        plt.show()\n",
    "        \n",
    "        sns.distplot(df[i])\n",
    "        plt.grid()\n",
    "        plt.show()\n",
    "        \n",
    "        print('--'*50,'\\n')"
   ]
  },
  {
   "cell_type": "markdown",
   "id": "867476a3",
   "metadata": {},
   "source": [
    "### We can see that most of the numerical variables have outliers"
   ]
  },
  {
   "cell_type": "markdown",
   "id": "b1d256bc",
   "metadata": {},
   "source": [
    "### 4.3 Average upvotes per tag"
   ]
  },
  {
   "cell_type": "code",
   "execution_count": 16,
   "id": "d5b7c108",
   "metadata": {},
   "outputs": [
    {
     "data": {
      "text/html": [
       "<div>\n",
       "<style scoped>\n",
       "    .dataframe tbody tr th:only-of-type {\n",
       "        vertical-align: middle;\n",
       "    }\n",
       "\n",
       "    .dataframe tbody tr th {\n",
       "        vertical-align: top;\n",
       "    }\n",
       "\n",
       "    .dataframe thead th {\n",
       "        text-align: right;\n",
       "    }\n",
       "</style>\n",
       "<table border=\"1\" class=\"dataframe\">\n",
       "  <thead>\n",
       "    <tr style=\"text-align: right;\">\n",
       "      <th></th>\n",
       "      <th>Upvotes</th>\n",
       "      <th>Tag</th>\n",
       "    </tr>\n",
       "  </thead>\n",
       "  <tbody>\n",
       "    <tr>\n",
       "      <th>0</th>\n",
       "      <td>540.364686</td>\n",
       "      <td>j</td>\n",
       "    </tr>\n",
       "    <tr>\n",
       "      <th>1</th>\n",
       "      <td>407.351971</td>\n",
       "      <td>p</td>\n",
       "    </tr>\n",
       "    <tr>\n",
       "      <th>2</th>\n",
       "      <td>384.719704</td>\n",
       "      <td>h</td>\n",
       "    </tr>\n",
       "    <tr>\n",
       "      <th>3</th>\n",
       "      <td>327.569916</td>\n",
       "      <td>c</td>\n",
       "    </tr>\n",
       "    <tr>\n",
       "      <th>4</th>\n",
       "      <td>316.460136</td>\n",
       "      <td>a</td>\n",
       "    </tr>\n",
       "  </tbody>\n",
       "</table>\n",
       "</div>"
      ],
      "text/plain": [
       "      Upvotes Tag\n",
       "0  540.364686   j\n",
       "1  407.351971   p\n",
       "2  384.719704   h\n",
       "3  327.569916   c\n",
       "4  316.460136   a"
      ]
     },
     "execution_count": 16,
     "metadata": {},
     "output_type": "execute_result"
    }
   ],
   "source": [
    "tag_upv = pd.DataFrame(df.Upvotes.groupby(df.Tag).mean().sort_values(ascending=False))\n",
    "tag_upv['Tag'] = tag_upv.index\n",
    "tag_upv.index = np.arange(0,len(tag_upv))\n",
    "tag_upv.head()"
   ]
  },
  {
   "cell_type": "markdown",
   "id": "c30f9eb5",
   "metadata": {},
   "source": [
    "### Most users have upvoted on questions belonging to J tag"
   ]
  },
  {
   "cell_type": "markdown",
   "id": "560d17ef",
   "metadata": {},
   "source": [
    "### 4.4 Average number of answers per tag"
   ]
  },
  {
   "cell_type": "code",
   "execution_count": 17,
   "id": "2542d5cd",
   "metadata": {},
   "outputs": [
    {
     "data": {
      "text/html": [
       "<div>\n",
       "<style scoped>\n",
       "    .dataframe tbody tr th:only-of-type {\n",
       "        vertical-align: middle;\n",
       "    }\n",
       "\n",
       "    .dataframe tbody tr th {\n",
       "        vertical-align: top;\n",
       "    }\n",
       "\n",
       "    .dataframe thead th {\n",
       "        text-align: right;\n",
       "    }\n",
       "</style>\n",
       "<table border=\"1\" class=\"dataframe\">\n",
       "  <thead>\n",
       "    <tr style=\"text-align: right;\">\n",
       "      <th></th>\n",
       "      <th>Answers</th>\n",
       "      <th>Tag</th>\n",
       "    </tr>\n",
       "  </thead>\n",
       "  <tbody>\n",
       "    <tr>\n",
       "      <th>0</th>\n",
       "      <td>4.347256</td>\n",
       "      <td>j</td>\n",
       "    </tr>\n",
       "    <tr>\n",
       "      <th>1</th>\n",
       "      <td>4.259189</td>\n",
       "      <td>a</td>\n",
       "    </tr>\n",
       "    <tr>\n",
       "      <th>2</th>\n",
       "      <td>4.047697</td>\n",
       "      <td>c</td>\n",
       "    </tr>\n",
       "    <tr>\n",
       "      <th>3</th>\n",
       "      <td>3.977077</td>\n",
       "      <td>p</td>\n",
       "    </tr>\n",
       "    <tr>\n",
       "      <th>4</th>\n",
       "      <td>3.778837</td>\n",
       "      <td>h</td>\n",
       "    </tr>\n",
       "  </tbody>\n",
       "</table>\n",
       "</div>"
      ],
      "text/plain": [
       "    Answers Tag\n",
       "0  4.347256   j\n",
       "1  4.259189   a\n",
       "2  4.047697   c\n",
       "3  3.977077   p\n",
       "4  3.778837   h"
      ]
     },
     "execution_count": 17,
     "metadata": {},
     "output_type": "execute_result"
    }
   ],
   "source": [
    "ans_upv = pd.DataFrame(df.Answers.groupby(df.Tag).mean().sort_values(ascending=False))\n",
    "ans_upv['Tag'] = ans_upv.index\n",
    "ans_upv.index = np.arange(0,len(ans_upv))\n",
    "ans_upv.head()"
   ]
  },
  {
   "cell_type": "markdown",
   "id": "e584e805",
   "metadata": {},
   "source": [
    "### We can see that most users have answered more for queries in \"Tag J\""
   ]
  },
  {
   "cell_type": "markdown",
   "id": "19f9c6e6",
   "metadata": {},
   "source": [
    "### 4.5 Reputation of the user vs upvotes / answers"
   ]
  },
  {
   "cell_type": "code",
   "execution_count": 18,
   "id": "0f5d6e28",
   "metadata": {},
   "outputs": [
    {
     "data": {
      "text/html": [
       "<div>\n",
       "<style scoped>\n",
       "    .dataframe tbody tr th:only-of-type {\n",
       "        vertical-align: middle;\n",
       "    }\n",
       "\n",
       "    .dataframe tbody tr th {\n",
       "        vertical-align: top;\n",
       "    }\n",
       "\n",
       "    .dataframe thead th {\n",
       "        text-align: right;\n",
       "    }\n",
       "</style>\n",
       "<table border=\"1\" class=\"dataframe\">\n",
       "  <thead>\n",
       "    <tr style=\"text-align: right;\">\n",
       "      <th></th>\n",
       "      <th>ID</th>\n",
       "      <th>Tag</th>\n",
       "      <th>Reputation</th>\n",
       "      <th>Answers</th>\n",
       "      <th>Username</th>\n",
       "      <th>Views</th>\n",
       "      <th>Upvotes</th>\n",
       "    </tr>\n",
       "  </thead>\n",
       "  <tbody>\n",
       "    <tr>\n",
       "      <th>0</th>\n",
       "      <td>52664</td>\n",
       "      <td>a</td>\n",
       "      <td>3942.0</td>\n",
       "      <td>2.0</td>\n",
       "      <td>155623</td>\n",
       "      <td>7855.0</td>\n",
       "      <td>42.0</td>\n",
       "    </tr>\n",
       "    <tr>\n",
       "      <th>1</th>\n",
       "      <td>327662</td>\n",
       "      <td>a</td>\n",
       "      <td>26046.0</td>\n",
       "      <td>12.0</td>\n",
       "      <td>21781</td>\n",
       "      <td>55801.0</td>\n",
       "      <td>1175.0</td>\n",
       "    </tr>\n",
       "    <tr>\n",
       "      <th>2</th>\n",
       "      <td>468453</td>\n",
       "      <td>c</td>\n",
       "      <td>1358.0</td>\n",
       "      <td>4.0</td>\n",
       "      <td>56177</td>\n",
       "      <td>8067.0</td>\n",
       "      <td>60.0</td>\n",
       "    </tr>\n",
       "    <tr>\n",
       "      <th>3</th>\n",
       "      <td>96996</td>\n",
       "      <td>a</td>\n",
       "      <td>264.0</td>\n",
       "      <td>3.0</td>\n",
       "      <td>168793</td>\n",
       "      <td>27064.0</td>\n",
       "      <td>9.0</td>\n",
       "    </tr>\n",
       "    <tr>\n",
       "      <th>4</th>\n",
       "      <td>131465</td>\n",
       "      <td>c</td>\n",
       "      <td>4271.0</td>\n",
       "      <td>4.0</td>\n",
       "      <td>112223</td>\n",
       "      <td>13986.0</td>\n",
       "      <td>83.0</td>\n",
       "    </tr>\n",
       "  </tbody>\n",
       "</table>\n",
       "</div>"
      ],
      "text/plain": [
       "       ID Tag  Reputation  Answers  Username    Views  Upvotes\n",
       "0   52664   a      3942.0      2.0    155623   7855.0     42.0\n",
       "1  327662   a     26046.0     12.0     21781  55801.0   1175.0\n",
       "2  468453   c      1358.0      4.0     56177   8067.0     60.0\n",
       "3   96996   a       264.0      3.0    168793  27064.0      9.0\n",
       "4  131465   c      4271.0      4.0    112223  13986.0     83.0"
      ]
     },
     "execution_count": 18,
     "metadata": {},
     "output_type": "execute_result"
    }
   ],
   "source": [
    "df.head()"
   ]
  },
  {
   "cell_type": "code",
   "execution_count": 19,
   "id": "4b86b50a",
   "metadata": {},
   "outputs": [],
   "source": [
    "from sklearn.linear_model import LinearRegression\n",
    "from sklearn.neighbors import KNeighborsRegressor\n",
    "from sklearn.tree import DecisionTreeRegressor\n",
    "from sklearn.ensemble import RandomForestRegressor, GradientBoostingRegressor\n",
    "from xgboost import XGBRegressor\n",
    "from xgboost import XGBRFRegressor\n",
    "from catboost import CatBoostRegressor\n",
    "from lightgbm import LGBMRegressor\n",
    "from sklearn.model_selection import train_test_split \n",
    "from sklearn.metrics import mean_squared_error, r2_score, mean_absolute_error\n",
    "from sklearn.preprocessing import LabelEncoder"
   ]
  },
  {
   "cell_type": "markdown",
   "id": "ea9f6ccf",
   "metadata": {},
   "source": [
    "### Data preprocessing"
   ]
  },
  {
   "cell_type": "code",
   "execution_count": 20,
   "id": "d2fff7fe",
   "metadata": {},
   "outputs": [],
   "source": [
    "ml = df.copy()"
   ]
  },
  {
   "cell_type": "code",
   "execution_count": 21,
   "id": "d19ac265",
   "metadata": {},
   "outputs": [
    {
     "data": {
      "text/html": [
       "<div>\n",
       "<style scoped>\n",
       "    .dataframe tbody tr th:only-of-type {\n",
       "        vertical-align: middle;\n",
       "    }\n",
       "\n",
       "    .dataframe tbody tr th {\n",
       "        vertical-align: top;\n",
       "    }\n",
       "\n",
       "    .dataframe thead th {\n",
       "        text-align: right;\n",
       "    }\n",
       "</style>\n",
       "<table border=\"1\" class=\"dataframe\">\n",
       "  <thead>\n",
       "    <tr style=\"text-align: right;\">\n",
       "      <th></th>\n",
       "      <th>ID</th>\n",
       "      <th>Tag</th>\n",
       "      <th>Reputation</th>\n",
       "      <th>Answers</th>\n",
       "      <th>Username</th>\n",
       "      <th>Views</th>\n",
       "      <th>Upvotes</th>\n",
       "    </tr>\n",
       "  </thead>\n",
       "  <tbody>\n",
       "    <tr>\n",
       "      <th>0</th>\n",
       "      <td>52664</td>\n",
       "      <td>a</td>\n",
       "      <td>3942.0</td>\n",
       "      <td>2.0</td>\n",
       "      <td>155623</td>\n",
       "      <td>7855.0</td>\n",
       "      <td>42.0</td>\n",
       "    </tr>\n",
       "    <tr>\n",
       "      <th>1</th>\n",
       "      <td>327662</td>\n",
       "      <td>a</td>\n",
       "      <td>26046.0</td>\n",
       "      <td>12.0</td>\n",
       "      <td>21781</td>\n",
       "      <td>55801.0</td>\n",
       "      <td>1175.0</td>\n",
       "    </tr>\n",
       "    <tr>\n",
       "      <th>2</th>\n",
       "      <td>468453</td>\n",
       "      <td>c</td>\n",
       "      <td>1358.0</td>\n",
       "      <td>4.0</td>\n",
       "      <td>56177</td>\n",
       "      <td>8067.0</td>\n",
       "      <td>60.0</td>\n",
       "    </tr>\n",
       "    <tr>\n",
       "      <th>3</th>\n",
       "      <td>96996</td>\n",
       "      <td>a</td>\n",
       "      <td>264.0</td>\n",
       "      <td>3.0</td>\n",
       "      <td>168793</td>\n",
       "      <td>27064.0</td>\n",
       "      <td>9.0</td>\n",
       "    </tr>\n",
       "    <tr>\n",
       "      <th>4</th>\n",
       "      <td>131465</td>\n",
       "      <td>c</td>\n",
       "      <td>4271.0</td>\n",
       "      <td>4.0</td>\n",
       "      <td>112223</td>\n",
       "      <td>13986.0</td>\n",
       "      <td>83.0</td>\n",
       "    </tr>\n",
       "  </tbody>\n",
       "</table>\n",
       "</div>"
      ],
      "text/plain": [
       "       ID Tag  Reputation  Answers  Username    Views  Upvotes\n",
       "0   52664   a      3942.0      2.0    155623   7855.0     42.0\n",
       "1  327662   a     26046.0     12.0     21781  55801.0   1175.0\n",
       "2  468453   c      1358.0      4.0     56177   8067.0     60.0\n",
       "3   96996   a       264.0      3.0    168793  27064.0      9.0\n",
       "4  131465   c      4271.0      4.0    112223  13986.0     83.0"
      ]
     },
     "execution_count": 21,
     "metadata": {},
     "output_type": "execute_result"
    }
   ],
   "source": [
    "ml.head()"
   ]
  },
  {
   "cell_type": "code",
   "execution_count": 22,
   "id": "2457a2e1",
   "metadata": {},
   "outputs": [],
   "source": [
    "ml.drop(['ID','Username'],axis=1,inplace=True)"
   ]
  },
  {
   "cell_type": "code",
   "execution_count": 23,
   "id": "b76838b9",
   "metadata": {},
   "outputs": [],
   "source": [
    "# print(ml.Tag.value_counts())\n",
    "# print(ml.Tag.unique())\n",
    "# print(ml.Tag.nunique())"
   ]
  },
  {
   "cell_type": "markdown",
   "id": "dc3708ec",
   "metadata": {},
   "source": [
    "### Preprocessing data"
   ]
  },
  {
   "cell_type": "code",
   "execution_count": 24,
   "id": "a389d2b2",
   "metadata": {},
   "outputs": [],
   "source": [
    "tag_list = ml.Tag.unique() ##unique values\n",
    "tag_id = np.arange(1,len(tag_list)+1)"
   ]
  },
  {
   "cell_type": "code",
   "execution_count": 25,
   "id": "ff5c00be",
   "metadata": {},
   "outputs": [],
   "source": [
    "ml['Tag'].replace(to_replace=tag_list, value=tag_id, inplace=True)"
   ]
  },
  {
   "cell_type": "code",
   "execution_count": 26,
   "id": "b7a62330",
   "metadata": {},
   "outputs": [
    {
     "data": {
      "text/html": [
       "<div>\n",
       "<style scoped>\n",
       "    .dataframe tbody tr th:only-of-type {\n",
       "        vertical-align: middle;\n",
       "    }\n",
       "\n",
       "    .dataframe tbody tr th {\n",
       "        vertical-align: top;\n",
       "    }\n",
       "\n",
       "    .dataframe thead th {\n",
       "        text-align: right;\n",
       "    }\n",
       "</style>\n",
       "<table border=\"1\" class=\"dataframe\">\n",
       "  <thead>\n",
       "    <tr style=\"text-align: right;\">\n",
       "      <th></th>\n",
       "      <th>Tag</th>\n",
       "      <th>Reputation</th>\n",
       "      <th>Answers</th>\n",
       "      <th>Views</th>\n",
       "      <th>Upvotes</th>\n",
       "    </tr>\n",
       "  </thead>\n",
       "  <tbody>\n",
       "    <tr>\n",
       "      <th>0</th>\n",
       "      <td>1</td>\n",
       "      <td>3942.0</td>\n",
       "      <td>2.0</td>\n",
       "      <td>7855.0</td>\n",
       "      <td>42.0</td>\n",
       "    </tr>\n",
       "    <tr>\n",
       "      <th>1</th>\n",
       "      <td>1</td>\n",
       "      <td>26046.0</td>\n",
       "      <td>12.0</td>\n",
       "      <td>55801.0</td>\n",
       "      <td>1175.0</td>\n",
       "    </tr>\n",
       "    <tr>\n",
       "      <th>2</th>\n",
       "      <td>2</td>\n",
       "      <td>1358.0</td>\n",
       "      <td>4.0</td>\n",
       "      <td>8067.0</td>\n",
       "      <td>60.0</td>\n",
       "    </tr>\n",
       "    <tr>\n",
       "      <th>3</th>\n",
       "      <td>1</td>\n",
       "      <td>264.0</td>\n",
       "      <td>3.0</td>\n",
       "      <td>27064.0</td>\n",
       "      <td>9.0</td>\n",
       "    </tr>\n",
       "    <tr>\n",
       "      <th>4</th>\n",
       "      <td>2</td>\n",
       "      <td>4271.0</td>\n",
       "      <td>4.0</td>\n",
       "      <td>13986.0</td>\n",
       "      <td>83.0</td>\n",
       "    </tr>\n",
       "  </tbody>\n",
       "</table>\n",
       "</div>"
      ],
      "text/plain": [
       "   Tag  Reputation  Answers    Views  Upvotes\n",
       "0    1      3942.0      2.0   7855.0     42.0\n",
       "1    1     26046.0     12.0  55801.0   1175.0\n",
       "2    2      1358.0      4.0   8067.0     60.0\n",
       "3    1       264.0      3.0  27064.0      9.0\n",
       "4    2      4271.0      4.0  13986.0     83.0"
      ]
     },
     "execution_count": 26,
     "metadata": {},
     "output_type": "execute_result"
    }
   ],
   "source": [
    "ml.head()"
   ]
  },
  {
   "cell_type": "markdown",
   "id": "f7651c65",
   "metadata": {},
   "source": [
    "### Models"
   ]
  },
  {
   "cell_type": "code",
   "execution_count": 27,
   "id": "05afaa8f",
   "metadata": {},
   "outputs": [],
   "source": [
    "lr = LinearRegression()\n",
    "kn = KNeighborsRegressor()\n",
    "dt = DecisionTreeRegressor()\n",
    "rf = RandomForestRegressor()\n",
    "gb = GradientBoostingRegressor()\n",
    "xgb = XGBRegressor()\n",
    "xgbrf = XGBRFRegressor()\n",
    "cat = CatBoostRegressor(verbose=False)\n",
    "lgb = LGBMRegressor()"
   ]
  },
  {
   "cell_type": "code",
   "execution_count": 28,
   "id": "e6f3a2d3",
   "metadata": {},
   "outputs": [],
   "source": [
    "x = ml.drop('Upvotes',1)\n",
    "y = ml.Upvotes"
   ]
  },
  {
   "cell_type": "code",
   "execution_count": 29,
   "id": "6222a0ed",
   "metadata": {},
   "outputs": [],
   "source": [
    "xtrain, xtest, ytrain, ytest = train_test_split(x,y,test_size=0.15, random_state=44)"
   ]
  },
  {
   "cell_type": "code",
   "execution_count": 30,
   "id": "920ddcb9",
   "metadata": {},
   "outputs": [
    {
     "name": "stdout",
     "output_type": "stream",
     "text": [
      "train_r2   :  0.24453792272600594\n",
      "train rmse :  3240.482899466775\n",
      "train mae  :  603.1232470319517\n",
      "test_r2   :  0.3727290566044834\n",
      "test rmse :  2135.7460930855545\n",
      "test mae  :  579.3448537996877\n"
     ]
    }
   ],
   "source": [
    "## train scores\n",
    "lr.fit(xtrain,ytrain)\n",
    "lr_train_pred = lr.predict(xtrain)\n",
    "lr_train_r2 = r2_score(ytrain,lr_train_pred)\n",
    "lr_train_rmse = np.sqrt(mean_squared_error(ytrain,lr_train_pred))\n",
    "lr_train_mae = mean_absolute_error(ytrain,lr_train_pred)\n",
    "print(\"train_r2   : \",lr_train_r2)\n",
    "print(\"train rmse : \",lr_train_rmse)\n",
    "print('train mae  : ',lr_train_mae)\n",
    "## test scores\n",
    "lr.fit(xtrain,ytrain)\n",
    "lr_test_pred = lr.predict(xtest)\n",
    "lr_test_r2 = r2_score(ytest,lr_test_pred)\n",
    "lr_test_rmse = np.sqrt(mean_squared_error(ytest,lr_test_pred))\n",
    "lr_test_mae = mean_absolute_error(ytest,lr_test_pred)\n",
    "print(\"test_r2   : \",lr_test_r2)\n",
    "print(\"test rmse : \",lr_test_rmse)\n",
    "print('test mae  : ',lr_test_mae)"
   ]
  },
  {
   "cell_type": "code",
   "execution_count": 31,
   "id": "9ac1dff0",
   "metadata": {},
   "outputs": [
    {
     "name": "stdout",
     "output_type": "stream",
     "text": [
      "train_r2   :  0.8123328479586379\n",
      "train rmse :  1615.0929871526785\n",
      "train mae  :  101.36371400665863\n",
      "test_r2   :  0.8394089853972319\n",
      "test rmse :  1080.6440244083367\n",
      "test mae  :  113.63447593269636\n",
      "Wall time: 5.77 s\n"
     ]
    }
   ],
   "source": [
    "%%time\n",
    "## train scores\n",
    "kn.fit(xtrain,ytrain)\n",
    "kn_train_pred = kn.predict(xtrain)\n",
    "kn_train_r2 = r2_score(ytrain,kn_train_pred)\n",
    "kn_train_rmse = np.sqrt(mean_squared_error(ytrain,kn_train_pred))\n",
    "kn_train_mae = mean_absolute_error(ytrain,kn_train_pred)\n",
    "print(\"train_r2   : \",kn_train_r2)\n",
    "print(\"train rmse : \",kn_train_rmse)\n",
    "print('train mae  : ',kn_train_mae)\n",
    "## test scores\n",
    "kn.fit(xtrain,ytrain)\n",
    "kn_test_pred = kn.predict(xtest)\n",
    "kn_test_r2 = r2_score(ytest,kn_test_pred)\n",
    "kn_test_rmse = np.sqrt(mean_squared_error(ytest,kn_test_pred))\n",
    "kn_test_mae = mean_absolute_error(ytest,kn_test_pred)\n",
    "print(\"test_r2   : \",kn_test_r2)\n",
    "print(\"test rmse : \",kn_test_rmse)\n",
    "print('test mae  : ',kn_test_mae)"
   ]
  },
  {
   "cell_type": "code",
   "execution_count": 32,
   "id": "5e7cabfa",
   "metadata": {},
   "outputs": [
    {
     "name": "stdout",
     "output_type": "stream",
     "text": [
      "train_r2   :  0.9833029341966093\n",
      "train rmse :  481.75194760687475\n",
      "train mae  :  41.09010350724068\n",
      "test_r2   :  0.8704777726407449\n",
      "test rmse :  970.4969781513007\n",
      "test mae  :  107.63327661937178\n",
      "Wall time: 9min 31s\n"
     ]
    }
   ],
   "source": [
    "%%time\n",
    "## train scores\n",
    "rf.fit(xtrain,ytrain)\n",
    "rf_train_pred = rf.predict(xtrain)\n",
    "rf_train_r2 = r2_score(ytrain,rf_train_pred)\n",
    "rf_train_rmse = np.sqrt(mean_squared_error(ytrain,rf_train_pred))\n",
    "rf_train_mae = mean_absolute_error(ytrain,rf_train_pred)\n",
    "print(\"train_r2   : \",rf_train_r2)\n",
    "print(\"train rmse : \",rf_train_rmse)\n",
    "print('train mae  : ',rf_train_mae)\n",
    "## test scores\n",
    "rf.fit(xtrain,ytrain)\n",
    "rf_test_pred = rf.predict(xtest)\n",
    "rf_test_r2 = r2_score(ytest,rf_test_pred)\n",
    "rf_test_rmse = np.sqrt(mean_squared_error(ytest,rf_test_pred))\n",
    "rf_test_mae = mean_absolute_error(ytest,rf_test_pred)\n",
    "print(\"test_r2   : \",rf_test_r2)\n",
    "print(\"test rmse : \",rf_test_rmse)\n",
    "print('test mae  : ',rf_test_mae)"
   ]
  },
  {
   "cell_type": "code",
   "execution_count": 33,
   "id": "5bf2a128",
   "metadata": {},
   "outputs": [
    {
     "name": "stdout",
     "output_type": "stream",
     "text": [
      "train_r2   :  0.9999999978840369\n",
      "train rmse :  0.17149736249747347\n",
      "train mae  :  0.0019961645124724637\n",
      "test_r2   :  0.8111631646417922\n",
      "test rmse :  1171.8321045633948\n",
      "test mae  :  138.77092128385885\n",
      "Wall time: 8.66 s\n"
     ]
    }
   ],
   "source": [
    "%%time\n",
    "## train scores\n",
    "dt.fit(xtrain,ytrain)\n",
    "dt_train_pred = dt.predict(xtrain)\n",
    "dt_train_r2 = r2_score(ytrain,dt_train_pred)\n",
    "dt_train_rmse = np.sqrt(mean_squared_error(ytrain,dt_train_pred))\n",
    "dt_train_mae = mean_absolute_error(ytrain,dt_train_pred)\n",
    "print(\"train_r2   : \",dt_train_r2)\n",
    "print(\"train rmse : \",dt_train_rmse)\n",
    "print('train mae  : ',dt_train_mae)\n",
    "## test scores\n",
    "dt.fit(xtrain,ytrain)\n",
    "dt_test_pred = dt.predict(xtest)\n",
    "dt_test_r2 = r2_score(ytest,dt_test_pred)\n",
    "dt_test_rmse = np.sqrt(mean_squared_error(ytest,dt_test_pred))\n",
    "dt_test_mae = mean_absolute_error(ytest,dt_test_pred)\n",
    "print(\"test_r2   : \",dt_test_r2)\n",
    "print(\"test rmse : \",dt_test_rmse)\n",
    "print('test mae  : ',dt_test_mae)"
   ]
  },
  {
   "cell_type": "code",
   "execution_count": 34,
   "id": "9d41457c",
   "metadata": {},
   "outputs": [
    {
     "name": "stdout",
     "output_type": "stream",
     "text": [
      "train_r2   :  0.9599347327555328\n",
      "train rmse :  746.2552881699311\n",
      "train mae  :  143.08386044244088\n",
      "test_r2   :  0.913895596431585\n",
      "test rmse :  791.2882497808857\n",
      "test mae  :  144.70339892704038\n",
      "Wall time: 1min 45s\n"
     ]
    }
   ],
   "source": [
    "%%time\n",
    "## train scores\n",
    "gb.fit(xtrain,ytrain)\n",
    "gb_train_pred = gb.predict(xtrain)\n",
    "gb_train_r2 = r2_score(ytrain,gb_train_pred)\n",
    "gb_train_rmse = np.sqrt(mean_squared_error(ytrain,gb_train_pred))\n",
    "gb_train_mae = mean_absolute_error(ytrain,gb_train_pred)\n",
    "print(\"train_r2   : \",gb_train_r2)\n",
    "print(\"train rmse : \",gb_train_rmse)\n",
    "print('train mae  : ',gb_train_mae)\n",
    "## test scores\n",
    "gb.fit(xtrain,ytrain)\n",
    "gb_test_pred = gb.predict(xtest)\n",
    "gb_test_r2 = r2_score(ytest,gb_test_pred)\n",
    "gb_test_rmse = np.sqrt(mean_squared_error(ytest,gb_test_pred))\n",
    "gb_test_mae = mean_absolute_error(ytest,gb_test_pred)\n",
    "print(\"test_r2   : \",gb_test_r2)\n",
    "print(\"test rmse : \",gb_test_rmse)\n",
    "print('test mae  : ',gb_test_mae)"
   ]
  },
  {
   "cell_type": "code",
   "execution_count": 35,
   "id": "3de38dc5",
   "metadata": {},
   "outputs": [
    {
     "name": "stdout",
     "output_type": "stream",
     "text": [
      "train_r2   :  0.9921836576779947\n",
      "train rmse :  329.6136476736094\n",
      "train mae  :  78.3276589806516\n",
      "test_r2   :  0.8844225337321564\n",
      "test rmse :  916.7662570585056\n",
      "test mae  :  104.58125967830091\n",
      "Wall time: 32.5 s\n"
     ]
    }
   ],
   "source": [
    "%%time\n",
    "## train scores\n",
    "xgb.fit(xtrain,ytrain)\n",
    "xgb_train_pred = xgb.predict(xtrain)\n",
    "xgb_train_r2 = r2_score(ytrain,xgb_train_pred)\n",
    "xgb_train_rmse = np.sqrt(mean_squared_error(ytrain,xgb_train_pred))\n",
    "xgb_train_mae = mean_absolute_error(ytrain,xgb_train_pred)\n",
    "print(\"train_r2   : \",xgb_train_r2)\n",
    "print(\"train rmse : \",xgb_train_rmse)\n",
    "print('train mae  : ',xgb_train_mae)\n",
    "## test scores\n",
    "xgb.fit(xtrain,ytrain)\n",
    "xgb_test_pred = xgb.predict(xtest)\n",
    "xgb_test_r2 = r2_score(ytest,xgb_test_pred)\n",
    "xgb_test_rmse = np.sqrt(mean_squared_error(ytest,xgb_test_pred))\n",
    "xgb_test_mae = mean_absolute_error(ytest,xgb_test_pred)\n",
    "print(\"test_r2   : \",xgb_test_r2)\n",
    "print(\"test rmse : \",xgb_test_rmse)\n",
    "print('test mae  : ',xgb_test_mae)"
   ]
  },
  {
   "cell_type": "code",
   "execution_count": 36,
   "id": "a343d193",
   "metadata": {},
   "outputs": [
    {
     "name": "stdout",
     "output_type": "stream",
     "text": [
      "train_r2   :  0.9576482162892618\n",
      "train rmse :  767.2541615989176\n",
      "train mae  :  134.76012523355698\n",
      "test_r2   :  0.8685824506927246\n",
      "test rmse :  977.5719179740333\n",
      "test mae  :  139.1014956422813\n",
      "Wall time: 36.9 s\n"
     ]
    }
   ],
   "source": [
    "%%time\n",
    "## train scores\n",
    "xgbrf.fit(xtrain,ytrain)\n",
    "xgbrf_train_pred = xgbrf.predict(xtrain)\n",
    "xgbrf_train_r2 = r2_score(ytrain,xgbrf_train_pred)\n",
    "xgbrf_train_rmse = np.sqrt(mean_squared_error(ytrain,xgbrf_train_pred))\n",
    "xgbrf_train_mae = mean_absolute_error(ytrain,xgbrf_train_pred)\n",
    "print(\"train_r2   : \",xgbrf_train_r2)\n",
    "print(\"train rmse : \",xgbrf_train_rmse)\n",
    "print('train mae  : ',xgbrf_train_mae)\n",
    "## test scores\n",
    "xgbrf.fit(xtrain,ytrain)\n",
    "xgbrf_test_pred = xgbrf.predict(xtest)\n",
    "xgbrf_test_r2 = r2_score(ytest,xgbrf_test_pred)\n",
    "xgbrf_test_rmse = np.sqrt(mean_squared_error(ytest,xgbrf_test_pred))\n",
    "xgbrf_test_mae = mean_absolute_error(ytest,xgbrf_test_pred)\n",
    "print(\"test_r2   : \",xgbrf_test_r2)\n",
    "print(\"test rmse : \",xgbrf_test_rmse)\n",
    "print('test mae  : ',xgbrf_test_mae)"
   ]
  },
  {
   "cell_type": "code",
   "execution_count": 37,
   "id": "3e2103ec",
   "metadata": {},
   "outputs": [
    {
     "name": "stdout",
     "output_type": "stream",
     "text": [
      "train_r2   :  0.9648068250066774\n",
      "train rmse :  699.4112670203886\n",
      "train mae  :  99.78420984231248\n",
      "test_r2   :  0.7102000002921083\n",
      "test rmse :  1451.6811102362692\n",
      "test mae  :  121.72460091244133\n",
      "Wall time: 1min 9s\n"
     ]
    }
   ],
   "source": [
    "%%time\n",
    "## train scores\n",
    "cat.fit(xtrain,ytrain)\n",
    "cat_train_pred = cat.predict(xtrain)\n",
    "cat_train_r2 = r2_score(ytrain,cat_train_pred)\n",
    "cat_train_rmse = np.sqrt(mean_squared_error(ytrain,cat_train_pred))\n",
    "cat_train_mae = mean_absolute_error(ytrain,cat_train_pred)\n",
    "print(\"train_r2   : \",cat_train_r2)\n",
    "print(\"train rmse : \",cat_train_rmse)\n",
    "print('train mae  : ',cat_train_mae)\n",
    "## test scores\n",
    "cat.fit(xtrain,ytrain)\n",
    "cat_test_pred = cat.predict(xtest)\n",
    "cat_test_r2 = r2_score(ytest,cat_test_pred)\n",
    "cat_test_rmse = np.sqrt(mean_squared_error(ytest,cat_test_pred))\n",
    "cat_test_mae = mean_absolute_error(ytest,cat_test_pred)\n",
    "print(\"test_r2   : \",cat_test_r2)\n",
    "print(\"test rmse : \",cat_test_rmse)\n",
    "print('test mae  : ',cat_test_mae)"
   ]
  },
  {
   "cell_type": "code",
   "execution_count": 38,
   "id": "da4522c8",
   "metadata": {},
   "outputs": [
    {
     "name": "stdout",
     "output_type": "stream",
     "text": [
      "train_r2   :  0.8248636535405303\n",
      "train rmse :  1560.2404841384903\n",
      "train mae  :  121.42636682672125\n",
      "test_r2   :  0.7110505760107996\n",
      "test rmse :  1449.5491708658471\n",
      "test mae  :  124.13699409727377\n",
      "Wall time: 2.77 s\n"
     ]
    }
   ],
   "source": [
    "%%time\n",
    "## train scores\n",
    "lgb.fit(xtrain,ytrain)\n",
    "lgb_train_pred = lgb.predict(xtrain)\n",
    "lgb_train_r2 = r2_score(ytrain,lgb_train_pred)\n",
    "lgb_train_rmse = np.sqrt(mean_squared_error(ytrain,lgb_train_pred))\n",
    "lgb_train_mae = mean_absolute_error(ytrain,lgb_train_pred)\n",
    "print(\"train_r2   : \",lgb_train_r2)\n",
    "print(\"train rmse : \",lgb_train_rmse)\n",
    "print('train mae  : ',lgb_train_mae)\n",
    "## test scores\n",
    "lgb.fit(xtrain,ytrain)\n",
    "lgb_test_pred = lgb.predict(xtest)\n",
    "lgb_test_r2 = r2_score(ytest,lgb_test_pred)\n",
    "lgb_test_rmse = np.sqrt(mean_squared_error(ytest,lgb_test_pred))\n",
    "lgb_test_mae = mean_absolute_error(ytest,lgb_test_pred)\n",
    "print(\"test_r2   : \",lgb_test_r2)\n",
    "print(\"test rmse : \",lgb_test_rmse)\n",
    "print('test mae  : ',lgb_test_mae)"
   ]
  },
  {
   "cell_type": "code",
   "execution_count": 39,
   "id": "98726dc0",
   "metadata": {},
   "outputs": [],
   "source": [
    "# evals = pd.DataFrame({'Model':['LR','DT','CAT','LGBM','XGB','GB','XGBRF','KNN'],\n",
    "#              'Train_R2':[lr_train_r2,dt_train_r2,cat_train_r2,\n",
    "#                          lgb_train_r2,xgb_train_r2,gb_train_r2,xgbrf_train_r2,kn_train_r2],\n",
    "#              'Test_R2':[lr_test_r2,dt_test_r2,cat_test_r2,lgb_test_r2,xgb_test_r2,gb_test_r2,xgbrf_test_r2,kn_test_r2],\n",
    "#              'Train_RMSE':[lr_train_rmse,dt_train_rmse,cat_train_rmse,\n",
    "#                            lgb_train_rmse,xgb_train_rmse,gb_train_rmse,xgbrf_train_rmse,kn_train_rmse],\n",
    "#              'Test_RMSE':[lr_test_rmse,dt_test_rmse,cat_test_rmse,\n",
    "#                           lgb_test_rmse,xgb_test_rmse,gb_test_rmse,xgbrf_test_rmse,kn_test_rmse]})"
   ]
  },
  {
   "cell_type": "code",
   "execution_count": 40,
   "id": "a55e56f5",
   "metadata": {},
   "outputs": [],
   "source": [
    "\n",
    "evals = pd.DataFrame({'Model':['LR','DT','RF','CAT','LGBM','XGB','GB','XGBRF','KNN'],\n",
    "             'Train_R2':[lr_train_r2,dt_train_r2,rf_train_r2,cat_train_r2,\n",
    "                         lgb_train_r2,xgb_train_r2,gb_train_r2,xgbrf_train_r2,kn_train_r2],\n",
    "             'Test_R2':[lr_test_r2,dt_test_r2,rf_test_r2,cat_test_r2,lgb_test_r2,xgb_test_r2,gb_test_r2,xgbrf_test_r2,kn_test_r2],\n",
    "             'Train_RMSE':[lr_train_rmse,dt_train_rmse,rf_train_rmse,cat_train_rmse,\n",
    "                           lgb_train_rmse,xgb_train_rmse,gb_train_rmse,xgbrf_train_rmse,kn_train_rmse],\n",
    "             'Test_RMSE':[lr_test_rmse,dt_test_rmse,rf_test_rmse,cat_test_rmse,\n",
    "                          lgb_test_rmse,xgb_test_rmse,gb_test_rmse,xgbrf_test_rmse,kn_test_rmse],\n",
    "             'Train_MAE':[lr_train_mae,dt_train_mae,rf_train_mae,cat_train_mae,\n",
    "                           lgb_train_mae,xgb_train_mae,gb_train_mae,xgbrf_train_mae,kn_train_mae],\n",
    "             'Test_MAE':[lr_test_mae,dt_test_mae,rf_test_mae,cat_test_mae,\n",
    "                          lgb_test_mae,xgb_test_mae,gb_test_mae,xgbrf_test_mae,kn_test_mae]\n",
    "                     })\n",
    "evals.sort_values('Test_R2',ascending=False,inplace=True)"
   ]
  },
  {
   "cell_type": "markdown",
   "id": "58298491",
   "metadata": {},
   "source": [
    "### Test r2 best models"
   ]
  },
  {
   "cell_type": "code",
   "execution_count": 41,
   "id": "bacf87f5",
   "metadata": {},
   "outputs": [
    {
     "data": {
      "text/html": [
       "<div>\n",
       "<style scoped>\n",
       "    .dataframe tbody tr th:only-of-type {\n",
       "        vertical-align: middle;\n",
       "    }\n",
       "\n",
       "    .dataframe tbody tr th {\n",
       "        vertical-align: top;\n",
       "    }\n",
       "\n",
       "    .dataframe thead th {\n",
       "        text-align: right;\n",
       "    }\n",
       "</style>\n",
       "<table border=\"1\" class=\"dataframe\">\n",
       "  <thead>\n",
       "    <tr style=\"text-align: right;\">\n",
       "      <th></th>\n",
       "      <th>Model</th>\n",
       "      <th>Train_R2</th>\n",
       "      <th>Test_R2</th>\n",
       "      <th>Train_RMSE</th>\n",
       "      <th>Test_RMSE</th>\n",
       "      <th>Train_MAE</th>\n",
       "      <th>Test_MAE</th>\n",
       "    </tr>\n",
       "  </thead>\n",
       "  <tbody>\n",
       "    <tr>\n",
       "      <th>6</th>\n",
       "      <td>GB</td>\n",
       "      <td>0.959935</td>\n",
       "      <td>0.913896</td>\n",
       "      <td>746.255288</td>\n",
       "      <td>791.288250</td>\n",
       "      <td>143.083860</td>\n",
       "      <td>144.703399</td>\n",
       "    </tr>\n",
       "    <tr>\n",
       "      <th>5</th>\n",
       "      <td>XGB</td>\n",
       "      <td>0.992184</td>\n",
       "      <td>0.884423</td>\n",
       "      <td>329.613648</td>\n",
       "      <td>916.766257</td>\n",
       "      <td>78.327659</td>\n",
       "      <td>104.581260</td>\n",
       "    </tr>\n",
       "    <tr>\n",
       "      <th>2</th>\n",
       "      <td>RF</td>\n",
       "      <td>0.983303</td>\n",
       "      <td>0.870478</td>\n",
       "      <td>481.751948</td>\n",
       "      <td>970.496978</td>\n",
       "      <td>41.090104</td>\n",
       "      <td>107.633277</td>\n",
       "    </tr>\n",
       "    <tr>\n",
       "      <th>7</th>\n",
       "      <td>XGBRF</td>\n",
       "      <td>0.957648</td>\n",
       "      <td>0.868582</td>\n",
       "      <td>767.254162</td>\n",
       "      <td>977.571918</td>\n",
       "      <td>134.760125</td>\n",
       "      <td>139.101496</td>\n",
       "    </tr>\n",
       "    <tr>\n",
       "      <th>8</th>\n",
       "      <td>KNN</td>\n",
       "      <td>0.812333</td>\n",
       "      <td>0.839409</td>\n",
       "      <td>1615.092987</td>\n",
       "      <td>1080.644024</td>\n",
       "      <td>101.363714</td>\n",
       "      <td>113.634476</td>\n",
       "    </tr>\n",
       "    <tr>\n",
       "      <th>1</th>\n",
       "      <td>DT</td>\n",
       "      <td>1.000000</td>\n",
       "      <td>0.811163</td>\n",
       "      <td>0.171497</td>\n",
       "      <td>1171.832105</td>\n",
       "      <td>0.001996</td>\n",
       "      <td>138.770921</td>\n",
       "    </tr>\n",
       "    <tr>\n",
       "      <th>4</th>\n",
       "      <td>LGBM</td>\n",
       "      <td>0.824864</td>\n",
       "      <td>0.711051</td>\n",
       "      <td>1560.240484</td>\n",
       "      <td>1449.549171</td>\n",
       "      <td>121.426367</td>\n",
       "      <td>124.136994</td>\n",
       "    </tr>\n",
       "    <tr>\n",
       "      <th>3</th>\n",
       "      <td>CAT</td>\n",
       "      <td>0.964807</td>\n",
       "      <td>0.710200</td>\n",
       "      <td>699.411267</td>\n",
       "      <td>1451.681110</td>\n",
       "      <td>99.784210</td>\n",
       "      <td>121.724601</td>\n",
       "    </tr>\n",
       "    <tr>\n",
       "      <th>0</th>\n",
       "      <td>LR</td>\n",
       "      <td>0.244538</td>\n",
       "      <td>0.372729</td>\n",
       "      <td>3240.482899</td>\n",
       "      <td>2135.746093</td>\n",
       "      <td>603.123247</td>\n",
       "      <td>579.344854</td>\n",
       "    </tr>\n",
       "  </tbody>\n",
       "</table>\n",
       "</div>"
      ],
      "text/plain": [
       "   Model  Train_R2   Test_R2   Train_RMSE    Test_RMSE   Train_MAE    Test_MAE\n",
       "6     GB  0.959935  0.913896   746.255288   791.288250  143.083860  144.703399\n",
       "5    XGB  0.992184  0.884423   329.613648   916.766257   78.327659  104.581260\n",
       "2     RF  0.983303  0.870478   481.751948   970.496978   41.090104  107.633277\n",
       "7  XGBRF  0.957648  0.868582   767.254162   977.571918  134.760125  139.101496\n",
       "8    KNN  0.812333  0.839409  1615.092987  1080.644024  101.363714  113.634476\n",
       "1     DT  1.000000  0.811163     0.171497  1171.832105    0.001996  138.770921\n",
       "4   LGBM  0.824864  0.711051  1560.240484  1449.549171  121.426367  124.136994\n",
       "3    CAT  0.964807  0.710200   699.411267  1451.681110   99.784210  121.724601\n",
       "0     LR  0.244538  0.372729  3240.482899  2135.746093  603.123247  579.344854"
      ]
     },
     "execution_count": 41,
     "metadata": {},
     "output_type": "execute_result"
    }
   ],
   "source": [
    "evals"
   ]
  },
  {
   "cell_type": "code",
   "execution_count": 42,
   "id": "7f679a15",
   "metadata": {},
   "outputs": [
    {
     "name": "stdout",
     "output_type": "stream",
     "text": [
      "Index(['Model', 'Train_R2', 'Test_R2', 'Train_RMSE', 'Test_RMSE', 'Train_MAE',\n",
      "       'Test_MAE'],\n",
      "      dtype='object')\n",
      "enter metrics :Test_RMSE\n",
      "\n",
      "\n",
      "    Model  Train_R2   Test_R2   Train_RMSE    Test_RMSE   Train_MAE    Test_MAE\n",
      "6     GB  0.959935  0.913896   746.255288   791.288250  143.083860  144.703399\n",
      "5    XGB  0.992184  0.884423   329.613648   916.766257   78.327659  104.581260\n",
      "2     RF  0.983303  0.870478   481.751948   970.496978   41.090104  107.633277\n",
      "7  XGBRF  0.957648  0.868582   767.254162   977.571918  134.760125  139.101496\n",
      "8    KNN  0.812333  0.839409  1615.092987  1080.644024  101.363714  113.634476\n",
      "1     DT  1.000000  0.811163     0.171497  1171.832105    0.001996  138.770921\n",
      "4   LGBM  0.824864  0.711051  1560.240484  1449.549171  121.426367  124.136994\n",
      "3    CAT  0.964807  0.710200   699.411267  1451.681110   99.784210  121.724601\n",
      "0     LR  0.244538  0.372729  3240.482899  2135.746093  603.123247  579.344854\n"
     ]
    }
   ],
   "source": [
    "## other metrics\n",
    "def metrics():\n",
    "    print(evals.columns)\n",
    "    eval_met = str(input('enter metrics :'))\n",
    "    if eval_met.endswith('MAE') or eval_met.endswith('RMSE'):\n",
    "        print('\\n\\n',evals.sort_values(eval_met,ascending=True))\n",
    "    else:\n",
    "        print('\\n\\n',evals.sort_values(eval_met,ascending=False))\n",
    "        \n",
    "metrics()"
   ]
  },
  {
   "cell_type": "markdown",
   "id": "1a028e12",
   "metadata": {},
   "source": [
    "### Test data"
   ]
  },
  {
   "cell_type": "code",
   "execution_count": 43,
   "id": "c76b8402",
   "metadata": {},
   "outputs": [],
   "source": [
    "test = pd.read_csv('test_8i3B3FC.csv')"
   ]
  },
  {
   "cell_type": "code",
   "execution_count": 44,
   "id": "8032d595",
   "metadata": {},
   "outputs": [
    {
     "data": {
      "text/html": [
       "<div>\n",
       "<style scoped>\n",
       "    .dataframe tbody tr th:only-of-type {\n",
       "        vertical-align: middle;\n",
       "    }\n",
       "\n",
       "    .dataframe tbody tr th {\n",
       "        vertical-align: top;\n",
       "    }\n",
       "\n",
       "    .dataframe thead th {\n",
       "        text-align: right;\n",
       "    }\n",
       "</style>\n",
       "<table border=\"1\" class=\"dataframe\">\n",
       "  <thead>\n",
       "    <tr style=\"text-align: right;\">\n",
       "      <th></th>\n",
       "      <th>ID</th>\n",
       "      <th>Tag</th>\n",
       "      <th>Reputation</th>\n",
       "      <th>Answers</th>\n",
       "      <th>Username</th>\n",
       "      <th>Views</th>\n",
       "    </tr>\n",
       "  </thead>\n",
       "  <tbody>\n",
       "    <tr>\n",
       "      <th>0</th>\n",
       "      <td>366953</td>\n",
       "      <td>a</td>\n",
       "      <td>5645.0</td>\n",
       "      <td>3.0</td>\n",
       "      <td>50652</td>\n",
       "      <td>33200.0</td>\n",
       "    </tr>\n",
       "    <tr>\n",
       "      <th>1</th>\n",
       "      <td>71864</td>\n",
       "      <td>c</td>\n",
       "      <td>24511.0</td>\n",
       "      <td>6.0</td>\n",
       "      <td>37685</td>\n",
       "      <td>2730.0</td>\n",
       "    </tr>\n",
       "    <tr>\n",
       "      <th>2</th>\n",
       "      <td>141692</td>\n",
       "      <td>i</td>\n",
       "      <td>927.0</td>\n",
       "      <td>1.0</td>\n",
       "      <td>135293</td>\n",
       "      <td>21167.0</td>\n",
       "    </tr>\n",
       "    <tr>\n",
       "      <th>3</th>\n",
       "      <td>316833</td>\n",
       "      <td>i</td>\n",
       "      <td>21.0</td>\n",
       "      <td>6.0</td>\n",
       "      <td>166998</td>\n",
       "      <td>18528.0</td>\n",
       "    </tr>\n",
       "    <tr>\n",
       "      <th>4</th>\n",
       "      <td>440445</td>\n",
       "      <td>i</td>\n",
       "      <td>4475.0</td>\n",
       "      <td>10.0</td>\n",
       "      <td>53504</td>\n",
       "      <td>57240.0</td>\n",
       "    </tr>\n",
       "  </tbody>\n",
       "</table>\n",
       "</div>"
      ],
      "text/plain": [
       "       ID Tag  Reputation  Answers  Username    Views\n",
       "0  366953   a      5645.0      3.0     50652  33200.0\n",
       "1   71864   c     24511.0      6.0     37685   2730.0\n",
       "2  141692   i       927.0      1.0    135293  21167.0\n",
       "3  316833   i        21.0      6.0    166998  18528.0\n",
       "4  440445   i      4475.0     10.0     53504  57240.0"
      ]
     },
     "execution_count": 44,
     "metadata": {},
     "output_type": "execute_result"
    }
   ],
   "source": [
    "test.head()"
   ]
  },
  {
   "cell_type": "code",
   "execution_count": 45,
   "id": "019a1b94",
   "metadata": {},
   "outputs": [
    {
     "name": "stdout",
     "output_type": "stream",
     "text": [
      "<class 'pandas.core.frame.DataFrame'>\n",
      "RangeIndex: 141448 entries, 0 to 141447\n",
      "Data columns (total 6 columns):\n",
      " #   Column      Non-Null Count   Dtype  \n",
      "---  ------      --------------   -----  \n",
      " 0   ID          141448 non-null  int64  \n",
      " 1   Tag         141448 non-null  object \n",
      " 2   Reputation  141448 non-null  float64\n",
      " 3   Answers     141448 non-null  float64\n",
      " 4   Username    141448 non-null  int64  \n",
      " 5   Views       141448 non-null  float64\n",
      "dtypes: float64(3), int64(2), object(1)\n",
      "memory usage: 6.5+ MB\n"
     ]
    }
   ],
   "source": [
    "test.info()"
   ]
  },
  {
   "cell_type": "code",
   "execution_count": 46,
   "id": "df23fda5",
   "metadata": {},
   "outputs": [],
   "source": [
    "ids = test['ID'].tolist()"
   ]
  },
  {
   "cell_type": "code",
   "execution_count": 47,
   "id": "8c1de059",
   "metadata": {},
   "outputs": [
    {
     "data": {
      "text/plain": [
       "array(['a', 'c', 'i', 'x', 's', 'p', 'o', 'j', 'h', 'r'], dtype=object)"
      ]
     },
     "execution_count": 47,
     "metadata": {},
     "output_type": "execute_result"
    }
   ],
   "source": [
    "test.Tag.unique()"
   ]
  },
  {
   "cell_type": "code",
   "execution_count": 48,
   "id": "20a99317",
   "metadata": {},
   "outputs": [
    {
     "data": {
      "text/plain": [
       "array(['a', 'c', 'r', 'j', 'p', 's', 'h', 'o', 'i', 'x'], dtype=object)"
      ]
     },
     "execution_count": 48,
     "metadata": {},
     "output_type": "execute_result"
    }
   ],
   "source": [
    "tag_list"
   ]
  },
  {
   "cell_type": "code",
   "execution_count": 49,
   "id": "a1fc7e6e",
   "metadata": {},
   "outputs": [],
   "source": [
    "test['Tag'].replace(to_replace=tag_list, value=tag_id, inplace=True)\n",
    "## Using tag list and tag id which we created earlier. This is because, the values are interchanged for test data."
   ]
  },
  {
   "cell_type": "code",
   "execution_count": 50,
   "id": "8f941c64",
   "metadata": {},
   "outputs": [],
   "source": [
    "test.drop(['ID','Username'],axis=1,inplace=True)"
   ]
  },
  {
   "cell_type": "code",
   "execution_count": 51,
   "id": "94e5577a",
   "metadata": {},
   "outputs": [
    {
     "data": {
      "text/html": [
       "<div>\n",
       "<style scoped>\n",
       "    .dataframe tbody tr th:only-of-type {\n",
       "        vertical-align: middle;\n",
       "    }\n",
       "\n",
       "    .dataframe tbody tr th {\n",
       "        vertical-align: top;\n",
       "    }\n",
       "\n",
       "    .dataframe thead th {\n",
       "        text-align: right;\n",
       "    }\n",
       "</style>\n",
       "<table border=\"1\" class=\"dataframe\">\n",
       "  <thead>\n",
       "    <tr style=\"text-align: right;\">\n",
       "      <th></th>\n",
       "      <th>Tag</th>\n",
       "      <th>Reputation</th>\n",
       "      <th>Answers</th>\n",
       "      <th>Views</th>\n",
       "    </tr>\n",
       "  </thead>\n",
       "  <tbody>\n",
       "    <tr>\n",
       "      <th>0</th>\n",
       "      <td>1</td>\n",
       "      <td>5645.0</td>\n",
       "      <td>3.0</td>\n",
       "      <td>33200.0</td>\n",
       "    </tr>\n",
       "    <tr>\n",
       "      <th>1</th>\n",
       "      <td>2</td>\n",
       "      <td>24511.0</td>\n",
       "      <td>6.0</td>\n",
       "      <td>2730.0</td>\n",
       "    </tr>\n",
       "    <tr>\n",
       "      <th>2</th>\n",
       "      <td>9</td>\n",
       "      <td>927.0</td>\n",
       "      <td>1.0</td>\n",
       "      <td>21167.0</td>\n",
       "    </tr>\n",
       "    <tr>\n",
       "      <th>3</th>\n",
       "      <td>9</td>\n",
       "      <td>21.0</td>\n",
       "      <td>6.0</td>\n",
       "      <td>18528.0</td>\n",
       "    </tr>\n",
       "    <tr>\n",
       "      <th>4</th>\n",
       "      <td>9</td>\n",
       "      <td>4475.0</td>\n",
       "      <td>10.0</td>\n",
       "      <td>57240.0</td>\n",
       "    </tr>\n",
       "  </tbody>\n",
       "</table>\n",
       "</div>"
      ],
      "text/plain": [
       "   Tag  Reputation  Answers    Views\n",
       "0    1      5645.0      3.0  33200.0\n",
       "1    2     24511.0      6.0   2730.0\n",
       "2    9       927.0      1.0  21167.0\n",
       "3    9        21.0      6.0  18528.0\n",
       "4    9      4475.0     10.0  57240.0"
      ]
     },
     "execution_count": 51,
     "metadata": {},
     "output_type": "execute_result"
    }
   ],
   "source": [
    "test.head()"
   ]
  },
  {
   "cell_type": "markdown",
   "id": "70d469db",
   "metadata": {},
   "source": [
    "### Ensembling the best performing models"
   ]
  },
  {
   "cell_type": "code",
   "execution_count": 52,
   "id": "351e5e47",
   "metadata": {},
   "outputs": [
    {
     "name": "stdout",
     "output_type": "stream",
     "text": [
      "Wall time: 6min 59s\n"
     ]
    },
    {
     "data": {
      "text/plain": [
       "KNeighborsRegressor(algorithm='auto', leaf_size=30, metric='minkowski',\n",
       "                    metric_params=None, n_jobs=None, n_neighbors=5, p=2,\n",
       "                    weights='uniform')"
      ]
     },
     "execution_count": 52,
     "metadata": {},
     "output_type": "execute_result"
    }
   ],
   "source": [
    "%%time\n",
    "gb.fit(x,y)\n",
    "xgb.fit(x,y)\n",
    "xgbrf.fit(x,y)\n",
    "rf.fit(x,y)\n",
    "kn.fit(x,y)"
   ]
  },
  {
   "cell_type": "code",
   "execution_count": 53,
   "id": "dccfd6ad",
   "metadata": {},
   "outputs": [
    {
     "name": "stdout",
     "output_type": "stream",
     "text": [
      "Wall time: 15.5 s\n"
     ]
    }
   ],
   "source": [
    "%%time\n",
    "gb_pred = gb.predict(test)\n",
    "xgb_pred = xgb.predict(test)\n",
    "xgbrf_pred = xgbrf.predict(test)\n",
    "kn_pred = kn.predict(test)\n",
    "rf_pred = rf.predict(test)"
   ]
  },
  {
   "cell_type": "code",
   "execution_count": 54,
   "id": "14695ea2",
   "metadata": {},
   "outputs": [],
   "source": [
    "# mean_preds = pd.DataFrame({'gb':gb_pred,'xgb':xgb_pred,'xgbrf':xgbrf_pred,'knn':kn_pred ,\n",
    "#                           'cat':cat_pred,'lgb':lgb_pred})\n",
    "\n",
    "mean_preds = pd.DataFrame({'gb':gb_pred,'xgb':xgb_pred,'xgbrf':xgbrf_pred,'rf':rf_pred})"
   ]
  },
  {
   "cell_type": "code",
   "execution_count": 55,
   "id": "85ed3a63",
   "metadata": {},
   "outputs": [
    {
     "data": {
      "text/html": [
       "<div>\n",
       "<style scoped>\n",
       "    .dataframe tbody tr th:only-of-type {\n",
       "        vertical-align: middle;\n",
       "    }\n",
       "\n",
       "    .dataframe tbody tr th {\n",
       "        vertical-align: top;\n",
       "    }\n",
       "\n",
       "    .dataframe thead th {\n",
       "        text-align: right;\n",
       "    }\n",
       "</style>\n",
       "<table border=\"1\" class=\"dataframe\">\n",
       "  <thead>\n",
       "    <tr style=\"text-align: right;\">\n",
       "      <th></th>\n",
       "      <th>gb</th>\n",
       "      <th>xgb</th>\n",
       "      <th>xgbrf</th>\n",
       "      <th>rf</th>\n",
       "    </tr>\n",
       "  </thead>\n",
       "  <tbody>\n",
       "    <tr>\n",
       "      <th>0</th>\n",
       "      <td>178.762140</td>\n",
       "      <td>214.083221</td>\n",
       "      <td>161.017029</td>\n",
       "      <td>222.50</td>\n",
       "    </tr>\n",
       "    <tr>\n",
       "      <th>1</th>\n",
       "      <td>291.065445</td>\n",
       "      <td>127.052208</td>\n",
       "      <td>437.887665</td>\n",
       "      <td>74.01</td>\n",
       "    </tr>\n",
       "    <tr>\n",
       "      <th>2</th>\n",
       "      <td>57.006831</td>\n",
       "      <td>34.164318</td>\n",
       "      <td>41.157684</td>\n",
       "      <td>32.30</td>\n",
       "    </tr>\n",
       "    <tr>\n",
       "      <th>3</th>\n",
       "      <td>36.092093</td>\n",
       "      <td>24.693613</td>\n",
       "      <td>38.324074</td>\n",
       "      <td>10.75</td>\n",
       "    </tr>\n",
       "    <tr>\n",
       "      <th>4</th>\n",
       "      <td>263.325196</td>\n",
       "      <td>291.651215</td>\n",
       "      <td>137.742996</td>\n",
       "      <td>369.55</td>\n",
       "    </tr>\n",
       "  </tbody>\n",
       "</table>\n",
       "</div>"
      ],
      "text/plain": [
       "           gb         xgb       xgbrf      rf\n",
       "0  178.762140  214.083221  161.017029  222.50\n",
       "1  291.065445  127.052208  437.887665   74.01\n",
       "2   57.006831   34.164318   41.157684   32.30\n",
       "3   36.092093   24.693613   38.324074   10.75\n",
       "4  263.325196  291.651215  137.742996  369.55"
      ]
     },
     "execution_count": 55,
     "metadata": {},
     "output_type": "execute_result"
    }
   ],
   "source": [
    "mean_preds.head()"
   ]
  },
  {
   "cell_type": "code",
   "execution_count": 56,
   "id": "65a5bd50",
   "metadata": {},
   "outputs": [
    {
     "name": "stdout",
     "output_type": "stream",
     "text": [
      "Wall time: 57.1 s\n"
     ]
    }
   ],
   "source": [
    "%%time\n",
    "mpreds = []\n",
    "for i in mean_preds.index:\n",
    "    mpreds.append(mean_preds.iloc[i].mean())    "
   ]
  },
  {
   "cell_type": "code",
   "execution_count": 57,
   "id": "12867e72",
   "metadata": {},
   "outputs": [],
   "source": [
    "mean_preds['mpred'] = mpreds"
   ]
  },
  {
   "cell_type": "code",
   "execution_count": 58,
   "id": "2229de90",
   "metadata": {},
   "outputs": [],
   "source": [
    "final_preds = pd.DataFrame({'ID':ids,'Upvotes':mean_preds['mpred']})"
   ]
  },
  {
   "cell_type": "code",
   "execution_count": 59,
   "id": "ab48d29f",
   "metadata": {},
   "outputs": [
    {
     "data": {
      "text/html": [
       "<div>\n",
       "<style scoped>\n",
       "    .dataframe tbody tr th:only-of-type {\n",
       "        vertical-align: middle;\n",
       "    }\n",
       "\n",
       "    .dataframe tbody tr th {\n",
       "        vertical-align: top;\n",
       "    }\n",
       "\n",
       "    .dataframe thead th {\n",
       "        text-align: right;\n",
       "    }\n",
       "</style>\n",
       "<table border=\"1\" class=\"dataframe\">\n",
       "  <thead>\n",
       "    <tr style=\"text-align: right;\">\n",
       "      <th></th>\n",
       "      <th>ID</th>\n",
       "      <th>Upvotes</th>\n",
       "    </tr>\n",
       "  </thead>\n",
       "  <tbody>\n",
       "    <tr>\n",
       "      <th>0</th>\n",
       "      <td>366953</td>\n",
       "      <td>194.090598</td>\n",
       "    </tr>\n",
       "    <tr>\n",
       "      <th>1</th>\n",
       "      <td>71864</td>\n",
       "      <td>232.503830</td>\n",
       "    </tr>\n",
       "    <tr>\n",
       "      <th>2</th>\n",
       "      <td>141692</td>\n",
       "      <td>41.157208</td>\n",
       "    </tr>\n",
       "    <tr>\n",
       "      <th>3</th>\n",
       "      <td>316833</td>\n",
       "      <td>27.464945</td>\n",
       "    </tr>\n",
       "    <tr>\n",
       "      <th>4</th>\n",
       "      <td>440445</td>\n",
       "      <td>265.567352</td>\n",
       "    </tr>\n",
       "  </tbody>\n",
       "</table>\n",
       "</div>"
      ],
      "text/plain": [
       "       ID     Upvotes\n",
       "0  366953  194.090598\n",
       "1   71864  232.503830\n",
       "2  141692   41.157208\n",
       "3  316833   27.464945\n",
       "4  440445  265.567352"
      ]
     },
     "execution_count": 59,
     "metadata": {},
     "output_type": "execute_result"
    }
   ],
   "source": [
    "final_preds.head()"
   ]
  },
  {
   "cell_type": "markdown",
   "id": "d1a2fe90",
   "metadata": {},
   "source": [
    "### Rounding decimal places"
   ]
  },
  {
   "cell_type": "code",
   "execution_count": 60,
   "id": "eccdf1ae",
   "metadata": {},
   "outputs": [],
   "source": [
    "final_preds['Upvotes'] = final_preds.Upvotes.astype(int)"
   ]
  },
  {
   "cell_type": "code",
   "execution_count": 61,
   "id": "6a7bb254",
   "metadata": {},
   "outputs": [],
   "source": [
    "# final_preds = final_preds.round({'Upvotes':0})"
   ]
  },
  {
   "cell_type": "code",
   "execution_count": 62,
   "id": "955f73f2",
   "metadata": {},
   "outputs": [
    {
     "data": {
      "text/html": [
       "<div>\n",
       "<style scoped>\n",
       "    .dataframe tbody tr th:only-of-type {\n",
       "        vertical-align: middle;\n",
       "    }\n",
       "\n",
       "    .dataframe tbody tr th {\n",
       "        vertical-align: top;\n",
       "    }\n",
       "\n",
       "    .dataframe thead th {\n",
       "        text-align: right;\n",
       "    }\n",
       "</style>\n",
       "<table border=\"1\" class=\"dataframe\">\n",
       "  <thead>\n",
       "    <tr style=\"text-align: right;\">\n",
       "      <th></th>\n",
       "      <th>ID</th>\n",
       "      <th>Upvotes</th>\n",
       "    </tr>\n",
       "  </thead>\n",
       "  <tbody>\n",
       "    <tr>\n",
       "      <th>0</th>\n",
       "      <td>366953</td>\n",
       "      <td>194</td>\n",
       "    </tr>\n",
       "    <tr>\n",
       "      <th>1</th>\n",
       "      <td>71864</td>\n",
       "      <td>232</td>\n",
       "    </tr>\n",
       "    <tr>\n",
       "      <th>2</th>\n",
       "      <td>141692</td>\n",
       "      <td>41</td>\n",
       "    </tr>\n",
       "    <tr>\n",
       "      <th>3</th>\n",
       "      <td>316833</td>\n",
       "      <td>27</td>\n",
       "    </tr>\n",
       "    <tr>\n",
       "      <th>4</th>\n",
       "      <td>440445</td>\n",
       "      <td>265</td>\n",
       "    </tr>\n",
       "  </tbody>\n",
       "</table>\n",
       "</div>"
      ],
      "text/plain": [
       "       ID  Upvotes\n",
       "0  366953      194\n",
       "1   71864      232\n",
       "2  141692       41\n",
       "3  316833       27\n",
       "4  440445      265"
      ]
     },
     "execution_count": 62,
     "metadata": {},
     "output_type": "execute_result"
    }
   ],
   "source": [
    "final_preds.head()"
   ]
  },
  {
   "cell_type": "markdown",
   "id": "e26d3e62",
   "metadata": {},
   "source": [
    "### Saving the preds as .csv "
   ]
  },
  {
   "cell_type": "code",
   "execution_count": 63,
   "id": "e1dce05b",
   "metadata": {},
   "outputs": [],
   "source": [
    "final_preds.to_csv('preds.csv',index=False)"
   ]
  }
 ],
 "metadata": {
  "kernelspec": {
   "display_name": "Python 3",
   "language": "python",
   "name": "python3"
  },
  "language_info": {
   "codemirror_mode": {
    "name": "ipython",
    "version": 3
   },
   "file_extension": ".py",
   "mimetype": "text/x-python",
   "name": "python",
   "nbconvert_exporter": "python",
   "pygments_lexer": "ipython3",
   "version": "3.7.6"
  }
 },
 "nbformat": 4,
 "nbformat_minor": 5
}
